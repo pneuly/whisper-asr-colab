{
 "cells": [
  {
   "cell_type": "markdown",
   "metadata": {
    "colab_type": "text",
    "id": "view-in-github"
   },
   "source": [
    "<a href=\"https://colab.research.google.com/github/pneuly/whisper-asr-colab/blob/main/whisper_asr_colab.ipynb\" target=\"_parent\"><img src=\"https://colab.research.google.com/assets/colab-badge.svg\" alt=\"Open In Colab\"/></a>"
   ]
  },
  {
   "cell_type": "code",
   "execution_count": null,
   "metadata": {
    "id": "HYRELn5Rozs8"
   },
   "outputs": [],
   "source": [
    "import logging\n",
    "import locale\n",
    "from torch.cuda import empty_cache\n",
    "from google.colab import files\n",
    "\n",
    "locale.getpreferredencoding = lambda: \"UTF-8\"\n",
    "\n",
    "# @title 自動文字起こし{ display-mode: \"form\" }\n",
    "audio = 'https://www.youtube.com/watch?v=xAmEQOqtMvA'  # @param {type:\"string\"}\n",
    "model_size = \"large-v3-turbo\" # @param [\"large-v3-turbo\", \"large-v3\", \"large-v2\", \"large\", \"medium\", \"small\", \"base\", \"tiny\"] {allow-input: true}\n",
    "diarization = True  # @param {type:\"boolean\"}\n",
    "password = \"\"  # @param {type:\"string\"}\n",
    "start_time = \"\"  # @param {type:\"string\"}\n",
    "end_time = \"\"  # @param {type:\"string\"}\n",
    "timestamp_offset = \"\"  # @param {type:\"string\"}\n",
    "skip_silence = True  # @param {type:\"boolean\"}\n",
    "hotwords = \"次に、これです。\" # @param {type:\"string\"}\n",
    "batch_size = 1 # @param {type:\"number\"}\n",
    "realtime = False  # @param {type:\"boolean\"}\n",
    "HUGGING_FACE_TOKEN = \"\"\n",
    "initial_prompt = \"定刻になりましたので、開始いたします。\"\n",
    "prefix = None\n",
    "vad_filter = False\n",
    "\n",
    "# @markdown ###<br/><b>〔設定の説明〕</b>\n",
    "# @markdown <b>audiopath:</b> 文字起こしする音声ファイルの場所<br/>\n",
    "# @markdown 　　Youtubeの場合： https://www.youtube.com/......<br/>\n",
    "# @markdown 　　手動で音声をアップロードした場合： 230401_1010.mp3 など<br/>\n",
    "# @markdown <br/><b>model_size:</b> 音声認識のモデルサイズ\n",
    "# @markdown <br/><b>diarization:</b> 発言者別の文字起こしファイルを作成するか\n",
    "# @markdown #### <br/><b><font color= \"blue\">以下は必要な場合のみ設定</font></b>\n",
    "# @markdown <b>password:</b> パスワードを指定（Webexなど）</b>\n",
    "# @markdown <br/><b>start_time:</b> 開始時間 hh:mm:ss</b>（指定しない場合は最初から）\n",
    "# @markdown <br/><b>end_time:</b> 終了時間 hh:mm:ss（指定しない場合は最後まで）\n",
    "# @markdown <br/><b>timestamp_offset:</b> タイムスタンプを指定の時間だけずらす hh:mm:ss（指定しない場合はstart_timeと連動）\n",
    "# @markdown <br/><b>skip_silence:</b> 先頭と最後の無音区間を削除\n",
    "# @markdown <br/><b>hotwords:</b> キーワード（次に、これです。は句読点を付けるために入れています。）\n",
    "# @markdown <br/><b>batch_size:</b> 2以上にすると少し早くなります。1の場合と2以上の場合で文字起こし結果が変わります。\n",
    "# @markdown <br/><b>reatime: </b>ストリーミングをリアルタイムで文字起こしをする場合のみオンにしてください。</font>\n",
    "\n",
    "# ----- main routine ------\n",
    "logger = logging.getLogger(__name__)\n",
    "logger.setLevel(logging.WARNING)\n",
    "if not logger.hasHandlers():\n",
    "    logger.addHandler(logging.StreamHandler())\n",
    "\n",
    "if diarization and HUGGING_FACE_TOKEN == \"\":\n",
    "    raise ValueError(\"HUGGING_FACE_TOKEN にトークンを入力してください\")\n",
    "\n",
    "if audio == \"\":\n",
    "    audio = list(files.upload())[0]\n",
    "\n",
    "!pip install git+https://github.com/pneuly/whisper-asr-colab.git@main -q\n",
    "!pip install ctranslate2==4.4.0\n",
    "from whisper_asr_colab.worker import Worker # noqa: E402\n",
    "from whisper_asr_colab.audio import Audio  # noqa: E402\n",
    "\n",
    "audio = Audio.from_path_or_url(audio)\n",
    "if start_time:\n",
    "    audio.start_time = start_time\n",
    "if end_time:\n",
    "    audio.end_time = end_time\n",
    "\n",
    "worker = Worker(\n",
    "    audio=audio,\n",
    "    model_size=model_size,\n",
    "    language=\"ja\",\n",
    "    diarization=diarization,\n",
    "    password=password,\n",
    "    initial_prompt=initial_prompt,\n",
    "    realtime=realtime,\n",
    "    batch_size=batch_size,\n",
    "    hugging_face_token=HUGGING_FACE_TOKEN,\n",
    "    hotwords=hotwords,\n",
    "    prefix=prefix,\n",
    "    vad_filter=False,\n",
    "    skip_silence=skip_silence,\n",
    ")\n",
    "if timestamp_offset:\n",
    "    worker.timestamp_offset = timestamp_offset\n",
    "\n",
    "worker.run()\n",
    "\n",
    "# gc GPU RAM\n",
    "del worker\n",
    "empty_cache()"
   ]
  }
 ],
 "metadata": {
  "accelerator": "GPU",
  "colab": {
   "gpuType": "T4",
   "include_colab_link": true,
   "private_outputs": true,
   "provenance": []
  },
  "gpuClass": "standard",
  "kernelspec": {
   "display_name": "Python 3",
   "name": "python3"
  },
  "language_info": {
   "codemirror_mode": {
    "name": "ipython",
    "version": 3
   },
   "file_extension": ".py",
   "mimetype": "text/x-python",
   "name": "python",
   "nbconvert_exporter": "python",
   "pygments_lexer": "ipython3",
   "version": "3.10.8"
  }
 },
 "nbformat": 4,
 "nbformat_minor": 0
}
