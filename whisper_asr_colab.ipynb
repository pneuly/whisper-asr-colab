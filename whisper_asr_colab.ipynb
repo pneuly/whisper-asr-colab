{
  "cells": [
    {
      "cell_type": "markdown",
      "metadata": {
        "colab_type": "text",
        "id": "view-in-github"
      },
      "source": [
        "<a href=\"https://colab.research.google.com/github/pneuly/whisper-asr-colab/blob/main/whisper_asr_colab.ipynb\" target=\"_parent\"><img src=\"https://colab.research.google.com/assets/colab-badge.svg\" alt=\"Open In Colab\"/></a>"
      ]
    },
    {
      "cell_type": "code",
      "execution_count": null,
      "metadata": {
        "id": "HYRELn5Rozs8"
      },
      "outputs": [],
      "source": [
        "import sys\n",
        "from logging import getLogger, basicConfig, StreamHandler, FileHandler, Formatter, INFO, WARNING, ERROR\n",
        "import locale\n",
        "from torch.cuda import empty_cache\n",
        "from google.colab import files\n",
        "\n",
        "locale.getpreferredencoding = lambda: \"UTF-8\"\n",
        "\n",
        "# @title 自動文字起こし（Wisper）{ display-mode: \"form\" }\n",
        "# @markdown 以下の設定項目を入力しセルを実行（Ctrl+Enter）<br>\n",
        "# @markdown <font color=\"red\">※文字の欠落が発生する場合はbatch_sizeを1にしてください。<br>\n",
        "# @markdown 　設定項目の説明は下にあります。</font>\n",
        "# @markdown #<b>設定</b>\n",
        "audio = 'https://www.youtube.com/watch?v=xAmEQOqtMvA'  # @param {type:\"string\"}\n",
        "model_size = \"large-v3\" # @param [\"large-v3\", \"large-v2\", \"large\", \"medium\", \"small\", \"base\", \"tiny\"] {allow-input: true}\n",
        "diarization = True  # @param {type:\"boolean\"}\n",
        "password = None  # @param {type:\"string\"}\n",
        "start_time = None  # @param {type:\"string\"}\n",
        "end_time = None  # @param {type:\"string\"}\n",
        "timestamp_offset = None  # @param {type:\"string\"}\n",
        "hotwords = \"次に、これです。\" # @param {type:\"string\"}\n",
        "batch_size = 8 # @param {type:\"number\"}\n",
        "realtime = False  # @param {type:\"boolean\"}\n",
        "HUGGING_FACE_TOKEN = \"\"\n",
        "initial_prompt = \"定刻になりましたので、開始いたします。\"\n",
        "prefix = None\n",
        "vad_filter = True,\n",
        "\n",
        "# @markdown ###<br/><b>〔設定の説明〕</b>\n",
        "# @markdown <b>audiopath:</b> 文字起こしする音声ファイルの場所<br/>\n",
        "# @markdown 　　Youtubeの場合： https://www.youtube.com/......<br/>\n",
        "# @markdown 　　手動で音声をアップロードした場合： 230401_1010.mp3 など<br/>\n",
        "# @markdown 　　（アップロード完了まで待って実行してください）<br/>\n",
        "# @markdown 　　<font color=\"red\">空欄の場合はファイルアップロードボタンが表示されます</font>\n",
        "# @markdown <br/><b>model_size:</b> 音声認識のモデルサイズ（mediumにすると少し精度が落ちるが早い）\n",
        "# @markdown <br/><b>diarization:</b> 発言者別の文字起こしファイルを作成するか（Falseにすると早い）\n",
        "# @markdown #### <br/><b><font color= \"blue\">以下は必要な場合のみ設定</font></b>\n",
        "# @markdown <b>password:</b> パスワードを指定（Webexなど）</b>\n",
        "# @markdown <br/><b>start_time:</b> 開始時間 hh:mm:ss</b>（指定しない場合は最初から）\n",
        "# @markdown <br/><b>end_time:</b> 終了時間 hh:mm:ss（指定しない場合は最後まで）\n",
        "# @markdown <br/><b>timestamp_offset:</b> タイムスタンプを指定の時間だけずらす hh:mm:ss（Noneの場合はstart_timeと連動）\n",
        "# @markdown <br/><b>hotwords:</b> キーワード（次に、これです。は句読点を付けるために入れています。）\n",
        "# @markdown <br/><b>batch_size:</b> 2以上にすると少し早くなります。欠落が発生する場合は1にしてください。\n",
        "# @markdown <br/><b>reatime: </b><font color=\"red\">ストリーミングをリアルタイムで文字起こしをする場合のみオンにしてください。</font>\n",
        "\n",
        "# ----- main routine ------\n",
        "basicConfig(\n",
        "    stream=sys.stdout,\n",
        "    level=WARNING,\n",
        "    force=True)\n",
        "\n",
        "if diarization and HUGGING_FACE_TOKEN == \"\":\n",
        "    raise ValueError(\"HUGGING_FACE_TOKEN にトークンを入力してください\")\n",
        "\n",
        "if audio == \"\":\n",
        "    audio = list(files.upload())[0]\n",
        "\n",
        "!pip install git+https://github.com/pneuly/whisper-asr-colab.git@main -q\n",
        "from whisper_asr_colab.worker import Worker  # noqa: E402\n",
        "\n",
        "worker = Worker(\n",
        "    audio=audio,\n",
        "    model_size=model_size,\n",
        "    language=\"ja\",\n",
        "    diarization=diarization,\n",
        "    password=password,\n",
        "    start_time=start_time,\n",
        "    end_time=end_time,\n",
        "    timestamp_offset=timestamp_offset,\n",
        "    initial_prompt=initial_prompt,\n",
        "    realtime=realtime,\n",
        "    batch_size=batch_size,\n",
        "    hugging_face_token=HUGGING_FACE_TOKEN,\n",
        "    hotwords=hotwords,\n",
        "    prefix=prefix,\n",
        "    vad_filter=vad_filter\n",
        ")\n",
        "\n",
        "worker.run()\n",
        "\n",
        "# gc GPU RAM\n",
        "del worker\n",
        "empty_cache()\n"
      ]
    }
  ],
  "metadata": {
    "accelerator": "GPU",
    "colab": {
      "gpuType": "T4",
      "include_colab_link": true,
      "private_outputs": true,
      "provenance": []
    },
    "gpuClass": "standard",
    "kernelspec": {
      "display_name": "Python 3",
      "name": "python3"
    },
    "language_info": {
      "codemirror_mode": {
        "name": "ipython",
        "version": 3
      },
      "file_extension": ".py",
      "mimetype": "text/x-python",
      "name": "python",
      "nbconvert_exporter": "python",
      "pygments_lexer": "ipython3",
      "version": "3.10.8"
    }
  },
  "nbformat": 4,
  "nbformat_minor": 0
}
