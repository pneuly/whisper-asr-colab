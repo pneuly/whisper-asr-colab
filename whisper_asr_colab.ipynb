{
 "cells": [
  {
   "cell_type": "markdown",
   "metadata": {
    "colab_type": "text",
    "id": "view-in-github"
   },
   "source": [
    "<a href=\"https://colab.research.google.com/github/pneuly/whisper-asr-colab/blob/main/whisper_asr_colab.ipynb\" target=\"_parent\"><img src=\"https://colab.research.google.com/assets/colab-badge.svg\" alt=\"Open In Colab\"/></a>"
   ]
  },
  {
   "cell_type": "code",
   "execution_count": null,
   "metadata": {
    "id": "HYRELn5Rozs8"
   },
   "outputs": [],
   "source": [
    "import sys\n",
    "from logging import getLogger, basicConfig, StreamHandler, FileHandler, Formatter, INFO, WARNING, ERROR\n",
    "import locale\n",
    "from torch.cuda import empty_cache\n",
    "from google.colab import files\n",
    "\n",
    "locale.getpreferredencoding = lambda: \"UTF-8\"\n",
    "\n",
    "# @title Faster-Whisper Implementation on Google Colab{ display-mode: \"form\" }\n",
    "audio = 'https://www.youtube.com/watch?v=xAmEQOqtMvA'  # @param {type:\"string\"}\n",
    "model_size = \"large-v3-turbo\" # @param [\"large-v3-turbo\", \"large-v3\", \"large-v2\", \"large\", \"medium\", \"small\", \"base\", \"tiny\"] {allow-input: true}\n",
    "diarization = True  # @param {type:\"boolean\"}\n",
    "password = \"\"  # @param {type:\"string\"}\n",
    "start_time = \"\"  # @param {type:\"string\"}\n",
    "end_time = \"\"  # @param {type:\"string\"}\n",
    "timestamp_offset = \"\"  # @param {type:\"string\"}\n",
    "hotwords = \"\" # @param {type:\"string\"}\n",
    "batch_size = 8 # @param {type:\"number\"}\n",
    "realtime = False  # @param {type:\"boolean\"}\n",
    "hf_token = \"\"\n",
    "initial_prompt = None\n",
    "prefix = None\n",
    "vad_filter = False\n",
    "skip_silence = True\n",
    "\n",
    "# ----- main routine ------\n",
    "basicConfig(\n",
    "    stream=sys.stdout,\n",
    "    level=WARNING,\n",
    "    force=True)\n",
    "\n",
    "if diarization and hf_token == \"\":\n",
    "    raise ValueError(\"Input your token to hf_token (https://huggingface.co/pyannote/speaker-diarization)\")\n",
    "\n",
    "if audio == \"\":\n",
    "    audio = list(files.upload())[0]\n",
    "\n",
    "!pip install git+https://github.com/pneuly/whisper-asr-colab.git@main -q\n",
    "!pip install ctranslate2==4.4.0\n",
    "from whisper_asr_colab.worker import Worker  # noqa: E402\n",
    "\n",
    "worker = Worker(\n",
    "    audio=audio,\n",
    "    model_size=model_size,\n",
    "    language=\"ja\",\n",
    "    diarization=diarization,\n",
    "    password=password,\n",
    "    start_time=start_time,\n",
    "    end_time=end_time,\n",
    "    timestamp_offset=timestamp_offset,\n",
    "    initial_prompt=initial_prompt,\n",
    "    realtime=realtime,\n",
    "    batch_size=batch_size,\n",
    "    hugging_face_token=hf_token,\n",
    "    hotwords=hotwords,\n",
    "    prefix=prefix,\n",
    "    vad_filter=vad_filter,\n",
    "    skip_silence=skip_silence,\n",
    ")\n",
    "\n",
    "worker.run()\n",
    "\n",
    "# gc GPU RAM\n",
    "del worker\n",
    "empty_cache()\n"
   ]
  }
 ],
 "metadata": {
  "accelerator": "GPU",
  "colab": {
   "gpuType": "T4",
   "include_colab_link": true,
   "private_outputs": true,
   "provenance": []
  },
  "gpuClass": "standard",
  "kernelspec": {
   "display_name": "Python 3",
   "name": "python3"
  },
  "language_info": {
   "codemirror_mode": {
    "name": "ipython",
    "version": 3
   },
   "file_extension": ".py",
   "mimetype": "text/x-python",
   "name": "python",
   "nbconvert_exporter": "python",
   "pygments_lexer": "ipython3",
   "version": "3.10.8"
  }
 },
 "nbformat": 4,
 "nbformat_minor": 0
}
